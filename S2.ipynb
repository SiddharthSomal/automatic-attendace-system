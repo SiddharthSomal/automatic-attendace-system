{
 "cells": [
  {
   "cell_type": "code",
   "execution_count": 1,
   "id": "b8119a3d",
   "metadata": {},
   "outputs": [],
   "source": [
    "import face_recognition\n",
    "import cv2\n",
    "import numpy as np\n",
    "import csv\n",
    "from datetime import datetime"
   ]
  },
  {
   "cell_type": "code",
   "execution_count": 2,
   "id": "618d3a36",
   "metadata": {},
   "outputs": [],
   "source": [
    "video_capture = cv2.VideoCapture(0)"
   ]
  },
  {
   "cell_type": "code",
   "execution_count": 3,
   "id": "f00784ff",
   "metadata": {},
   "outputs": [],
   "source": [
    "jobs_image = face_recognition.load_image_file(\"photos/steve_jobs.jpg\")\n",
    "jobs_encoding = face_recognition.face_encodings(jobs_image)[0]\n",
    "\n",
    "elon_image = face_recognition.load_image_file(\"photos/elon.jpg\")\n",
    "elon_encoding = face_recognition.face_encodings(elon_image)[0]\n",
    "\n",
    "modi_image = face_recognition.load_image_file(\"photos/modi.jpg\")\n",
    "modi_encoding = face_recognition.face_encodings(modi_image)[0]\n",
    "\n",
    "blake_image = face_recognition.load_image_file(\"photos/blake_lively.jpg\")\n",
    "blake_encoding = face_recognition.face_encodings(blake_image)[0]\n",
    "\n",
    "ryan_image = face_recognition.load_image_file(\"photos/ryan_reynolds.jpg\")\n",
    "ryan_encoding = face_recognition.face_encodings(ryan_image)[0]"
   ]
  },
  {
   "cell_type": "code",
   "execution_count": 4,
   "id": "dde08f4a",
   "metadata": {},
   "outputs": [],
   "source": [
    "known_face_encoding=[\n",
    "    jobs_encoding,\n",
    "    blake_encoding,\n",
    "    elon_encoding,\n",
    "    modi_encoding\n",
    "]\n",
    "\n",
    "known_face_names = [\n",
    "    \"jobs\",\n",
    "    \"blake lively\",\n",
    "    \"elon musk\",\n",
    "    \"narendra modi\"\n",
    "]\n",
    "\n",
    "students = known_face_names.copy();\n",
    "\n",
    "face_locations = []\n",
    "face_encodings = []\n",
    "face_names = []\n",
    "s = True"
   ]
  },
  {
   "cell_type": "code",
   "execution_count": 5,
   "id": "01e02711",
   "metadata": {},
   "outputs": [
    {
     "name": "stdout",
     "output_type": "stream",
     "text": [
      "['jobs', 'elon musk', 'narendra modi']\n",
      "['elon musk', 'narendra modi']\n"
     ]
    }
   ],
   "source": [
    "now = datetime.now()\n",
    "current_date = now.strftime(\"%Y-%m-%d\")\n",
    "\n",
    "f = open(current_date+'.csv','w+',newline = '')\n",
    "lnwrite = csv.writer(f)\n",
    "\n",
    "while True:\n",
    "  _,frame = video_capture.read()\n",
    "  small_frame = cv2.resize(frame,(0,0),fx=0.25,fy=0.25)\n",
    "  rgb_small_frame = small_frame[:,:,::-1]\n",
    "  if s:\n",
    "    face_locations = face_recognition.face_locations(rgb_small_frame)\n",
    "    face_encodings = face_recognition.face_encodings(rgb_small_frame,face_locations)\n",
    "    face_names = []\n",
    "    for face_encoding in face_encodings:\n",
    "      matches = face_recognition.compare_faces(known_face_encoding,face_encoding)\n",
    "      name=\"\"\n",
    "      face_distance = face_recognition.face_distance(known_face_encoding,face_encoding)\n",
    "      best_match_index = np.argmin(face_distance)\n",
    "      if matches[best_match_index]:\n",
    "        name = known_face_names[best_match_index]\n",
    "\n",
    "      face_names.append(name)\n",
    "\n",
    "      if name in known_face_names:\n",
    "        if name in students:\n",
    "          students.remove(name)\n",
    "          print(students)\n",
    "          current_time = now.strftime(\"%H-%M-%S\")\n",
    "          lnwrite.writerow([name,current_time])\n",
    "  cv2.imshow(\"My attendance system\",frame);\n",
    "\n",
    "  if cv2.waitKey(1) & 0xFF == ord('q'):\n",
    "    break\n",
    "video_capture.release()\n",
    "cv2.destroyAllWindows()\n",
    "f.close()"
   ]
  },
  {
   "cell_type": "code",
   "execution_count": null,
   "id": "6752203a",
   "metadata": {},
   "outputs": [],
   "source": []
  },
  {
   "cell_type": "code",
   "execution_count": null,
   "id": "aa6a4b0d",
   "metadata": {},
   "outputs": [],
   "source": []
  }
 ],
 "metadata": {
  "kernelspec": {
   "display_name": "Python 3 (ipykernel)",
   "language": "python",
   "name": "python3"
  },
  "language_info": {
   "codemirror_mode": {
    "name": "ipython",
    "version": 3
   },
   "file_extension": ".py",
   "mimetype": "text/x-python",
   "name": "python",
   "nbconvert_exporter": "python",
   "pygments_lexer": "ipython3",
   "version": "3.9.13"
  }
 },
 "nbformat": 4,
 "nbformat_minor": 5
}
